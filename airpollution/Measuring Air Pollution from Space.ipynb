{
 "cells": [
  {
   "cell_type": "markdown",
   "metadata": {},
   "source": [
    "# Measuring Air Pollution from Space\n",
    "<small><i>This use case was prepared with support from the European Space Agency and using Copernicus data.</i></small>\n",
    "\n",
    "## Introduction\n",
    "\n",
    "Air pollution is a serious problem worldwide - especially in large urban areas. According to the World Health Organization (WHO) some 4.2 million premature deaths each year are linked to air pollution. And according to data the European Environment Agency published, around 90% of city dwellers in Europe are subjected to air pollutants at levels deemed harmful.\n",
    "There are a number of pollutants which are linked to human activity - in particular the burning of fossil fuels. The most harmful one in terms of human health impact is fine particulate matter or PM<sub>2.5</sub>. Other harmful pollutants include carbon monoxide (CO) and nitrogen dioxide (NO<sub>2</sub>), both of which can originate from vehicle traffic but also from other, natural sources. Ozone (O<sub>3</sub>) near the ground (tropospheric ozone) is another harmful pollutant which forms as a result of the reaction of products created by the burning of fossil fuels with the sun’s UV radiation and can cause serious respiratory illness. However, higher up our atmosphere - in the stratosphere at a height of around 10 to 50 Km - Ozone occurs naturally and plays an important role in filtering out the sun's harmful UV radiation.\n",
    "\n",
    "While a significant part of harmful pollutants are the direct or indirect result of human activity, there are also a large number of natural emission sources such as volcanic eruptions which release sulphur dioxide (SO<sub>2</sub>), carbon monoxide released by wildfires or windblown dust which contributes to high PM concentrations. Furthermore, pollutants can be carried over large distances by global wind patterns such that there is not always a clear connection between air quality and local anthropogenic or natural emissions. Observing and understanding the global pollution patterns is therefore vital in understanding causes and sources of harmful pollutants and ultimately developing strategies to tackle air pollution. \n",
    "\n",
    "Ground-based measurements such as weather stations are a very important part of the picture. Ground-based sensors are generally in direct contact with the medium being measured (ambient air) and allow for very precise, continuous measurements. The drawback of such in-situ measurements is that they are localized and cannot cover the entire breadth of our atmosphere. Therefore, to get the complete picture of atmospheric pollution and the distribution of atmospheric gases, an additional type of measurements is needed.\n"
   ]
  },
  {
   "cell_type": "markdown",
   "metadata": {},
   "source": [
    "## Satellite-based Atmospheric Remote Sensing\n",
    "\n",
    "This is where satellites come in. Satellite-based sensors allow us to retrieve information over large areas and even globally. These measurements (which have a high spatial coverage but are also rather coarse) can then be integrated with local measurements from ground stations to get a full picture of air pollution patterns. Unlike in-situ sensors, satellite-based sensors make use of the principle of remote sensing where measurements are obtained *without direct contact* with the atmosphere. The idea behind such observations is that each gas and particle - due to its unique shape and structure on a molecular level - interacts differently with the electromagnetic radiation emitted by the sun. By observing the electromagnetic energy reflected by the atmosphere on different wavelengths using a so-called spectrometer, satellites are able to detect the unique electromagnetic ‘fingerprints’ of a great number of atmospheric gases and particles.\n",
    "\n",
    "There have been a range of satellite missions over the years dedicated to observing atmospheric gases. One of the earlier missions was NASA's *Total Ozone Mapping Spectrometer (TOMS)* which was launched aboard the Nimbus-7 meteorological satellite in 1978. TOMS is also a good showcase on how satellite- and ground-based measurements complement each other: TOMS recorded extremely low ozone (O<sub>3</sub>) concentrations in the atmosphere above Antarctica. So low in fact, that they were discarded as an instrument error until ground-based measurements confirmed these measurements in the 1980's and lead to the discovery of what became known as the ozone hole. The European Space Agency's (ESA) *Global Ozone Monitoring Experiment (GOME)*, launched in 1995 aboard the ERS-2 satellite, was able to detect not only ozone but also nitrogen dioxide (NO<sub>2</sub>) and different cloud properties using its four spectral channels. This was followed up by ESA's SCIAMACHY (*SCanning Imaging Absorption spectroMeter for Atmospheric CHartographY*) instrument in 2002 and NASA's *Ozone monitoring instrument (OMI)* in 2004.\n",
    "\n",
    "In October 2017 ESA launched Sentinel-5P, an earth-observation satellite charged with detecting different types of trace gases and pollutants which extends the capabilities of both SCIAMACHY and OMI. The satellite is mapping atmospheric gases for the whole world on a daily basis with a resolution of 7 Km x 3.5 Km per pixel using its state-of-the-art Tropomi instrument. While this may sound like a low resolution, it is actually much higher than any of Sentinel-5P’s predecessors. This allows us for example to monitor air pollution over individual cities, which was previously not possible using satellite-based measurements alone. By observing the visible, near-infrared and shortwave infrared range of the electromagnetic spectrum, Tropomi can detect a wide range of atmospheric gases such as nitrogen dioxide, ozone, formaldehyde, sulphur dioxide, methane and carbon monoxide as well as aerosols. The combination of a daily repeat time, a high spatial resolution and the large number of atmospheric gases and particles measured means, Sentinel-5P is providing new insights into global pollution patterns. What is more, since Sentinel-5P is also monitoring sulphur dioxide and carbon monoxide it can also be used to monitor volcanic eruptions and wildfires. \n",
    "\n",
    "For more information on Sentinel-5P, you can visit <a href=\"https://www.esa.int/Our_Activities/Observing_the_Earth/Copernicus/Sentinel-5P\">ESA’s website dedicated to the topic</a> and <a href=\"http://www.tropomi.eu/data-products/level-2-products\">this website</a> dedicated to the Tropomi instrument.\n"
   ]
  },
  {
   "cell_type": "markdown",
   "metadata": {},
   "source": [
    "## Measuring NO<sub>2</sub> and Aerosols with Sentinel-5P\n",
    "\n",
    "Here we see NO<sub>2</sub> concentrations over part of Europe as measured by Sentinel-5P:\n",
    "\n",
    "<table>\n",
    "<tr>\n",
    "<td>\n",
    "<a href=\"https://apps.sentinel-hub.com/eo-browser/?lat=48.34&lng=4.50&zoom=6&time=2018-08-06&preset=NO2_VISUALIZED&datasource=Sentinel-5P%20NO2\" target=\"_blank\">\n",
    " <img src=\"images/2018-08-06, Sentinel-5P NO2, Sentinel 5P L2 - Nitrogen Dioxide.jpg\" alt=\"Drawing\" style=\"width: 1000px;\"/>\n",
    "</a>\n",
    "</td>\n",
    "</tr>\n",
    "<tr>\n",
    "<td style=\"text-align:left\"> <b>NO<sub>2</sub> concentration in Europe </b> as acquired by Sentinel 5P on 6th of August 2018 (<a href=\"https://apps.sentinel-hub.com/eo-browser/?lat=48.34&lng=4.50&zoom=6&time=2018-08-06&preset=NO2_VISUALIZED&datasource=Sentinel-5P%20NO2\">EO Browser link</a>). </td>\n",
    "</tr>\n",
    "</table>\n",
    "\n",
    "Blue represents a low NO<sub>2</sub> concentration, while red tones are indicating high levels of NO<sub>2</sub>. We can see a high concentration over large urban agglomerations such as the Randstad area in the Netherlands, the Ruhrgebiet in Germany, Northern Belgium, London and Paris. It is interesting that in particular large industrial cities seem to be affected. This indicates that a large part of the NO<sub>2</sub> is coming from the manufacturing industry and vehicle traffic. It is also striking that many image tiles are empty. This is due to these tiles being excluded for low quality (e.g. if no values could be retrieved due to clouds).\n",
    "\n",
    "Following is a visualization of the UV aerosol index, another of Sentinel-5P's products (for an explanation of the product see <a href=\"http://www.tropomi.eu/data-products/uv-aerosol-index\">here</a>):\n",
    "\n",
    "<table>\n",
    "<tr>\n",
    "<td>\n",
    "<a href=\"https://apps.sentinel-hub.com/eo-browser/?lat=29.23&lng=-2.64&zoom=5&time=2018-08-06&preset=AER_AI_340_AND_380_VISUALIZED&datasource=Sentinel-5P%20AER_AI\" target=\"_blank\">\n",
    " <img src=\"images/2018-08-06, Sentinel-5P AER_AI, Sentinel 5P L2 - AER AI 340 and 380.jpg\" alt=\"Drawing\" style=\"width: 1000px;\"/>\n",
    "</a>\n",
    "</td>\n",
    "</tr>\n",
    "<tr>\n",
    "<td style=\"text-align:left\"> <b>UV aerosol index over Northern Africa concentration in Europe </b> as acquired by Sentinel 5P on 6th of August 2018 (<a href=\"https://apps.sentinel-hub.com/eo-browser/?lat=29.23&lng=-2.64&zoom=5&time=2018-08-06&preset=AER_AI_340_AND_380_VISUALIZED&datasource=Sentinel-5P%20AER_AI\">EO Browser link</a>). </td>\n",
    "</tr>\n",
    "</table>\n",
    "\n",
    "Aerosols are microscopic particles suspended in air which can be solid or liquid and form an important part of our atmosphere. The sources of these aerosols are extremely varied: dust, volcanic ashes, smoke from fires, fossil fuel combustion and other anthropogenic activities are some examples of aerosols. In the image above, we can clearly see a large concentration of aerosols in the western part of North Africa. This corresponds to Saharan dust particles which are being transported westward by the prevalent wind patterns. The Saharan dust in particular is transported over large distances up until South America where it helps fertilize soils in the Amazon Basin.\n",
    "\n",
    "Note the diagonal strips in the image. They are the consequence of combining 4 images from neighbouring swaths. Each of the 4 images covers the width of 2600 km (i.e. swath width). The stripes appear since the 4 images are acquired 101 minutes apart (i.e. period) and the UV aerosol index changes in between (<a href=\"https://earth.esa.int/web/eoportal/satellite-missions/c-missions/copernicus-sentinel-5p\">source</a>). \n",
    "\n",
    "In terms of the climate system, aerosols are one of the largest unknowns. They are extremely varied in origin, shape, size and chemical composition and can have both a cooling and a heating effect on our climate. That is because, depending on their specific chemical and physical properties, they either reflect or absorb sunlight. The actual particles are also known as *particulate matter* (the term aerosol generally refers to the suspension of particles in the air) and are generally divided by size into PM<sub>2.5</sub> and PM<sub>10</sub> with PM<sub>2.5</sub> being particles with a diameter < 2.5 \\\\(\\mu\\\\)m and PM<sub>10</sub> being particles with a diameter between 2.5 and 10 \\\\(\\mu\\\\)m. In particular PM<sub>2.5</sub> is linked to negative human health impacts.\n",
    "\n",
    "Below is another example of Sentinel-5P aerosol measurements between the 7th and 11th November 2018 off the coast of California. Simply play the video below. For better experience, view the video in full screen mode.\n",
    "\n",
    "Alternatively, open EO Browser <a href=\"https://apps.sentinel-hub.com/eo-browser/?lat=34.05&lng=-122.83&zoom=5&time=2018-11-07&preset=AER_AI_340_AND_380_VISUALIZED&datasource=Sentinel-5P%20AER_AI\">here</a> and then use calendar to visualize images for dates between 7th and 11th November.\n"
   ]
  },
  {
   "cell_type": "markdown",
   "metadata": {},
   "source": [
    "<video controls src=\"video/video.mp4\" width=\"1000\" />"
   ]
  },
  {
   "cell_type": "markdown",
   "metadata": {},
   "source": [
    "What we are seeing is the spread of aerosols from the large Camp Fire wildfire which took place in California at that time and which was the most destructive wildfire in California to date. As you can see, Sentinel-5P is not only useful for monitoring man-made air pollution but also for the monitoring of natural phenomena like wildfires and their fallout on a scale which would be impossible for ground-based sensors and at a resolution unprecedented by preceding satellite missions.\n",
    "\n",
    "In summary, Sentinel-5P provides a range of different atmospheric measurements. It does not only measure atmospheric trace gases but also particles and clouds. "
   ]
  },
  {
   "cell_type": "markdown",
   "metadata": {},
   "source": [
    "## Conclusion\n",
    "\n",
    "We have seen, how satellite measurements can contribute to monitoring air pollution. This information is critical for public health officials and policy makers to guide their decisions on environmental policies. It is also important for the public to know, how air pollution affects them. Finally, scientists have a great interest in the data collected by Sentinel-5P because it allows them to gain new insights into global pollution patterns and their role in our climate system.\n",
    "\n",
    "There are several caveats to keep in mind when working with satellite data: For one, atmospheric phenomena like clouds can influence satellite-based measurements of atmospheric gases and make them more challenging (as you have seen, many image tiles are empty because no data could be retrieved). While the resolution has greatly improved over the last few years, it is still rather coarse and while it allows us to monitor global patterns, we are dependent on ground-based measurements to get the complete picture of air pollution and to validate our satellite-based measurements. Furthermore, Sentinel-5P measures the concentration of gases in the whole atmospheric column. Again, we would need ground based measurements to relate this data to the actual concentrations on the ground. As we have seen in the case of ozone, the exact location of a trace gas in our atmosphere can determine its impact on our climate and on human health and is therefore an important parameter. Although in the particular case of ozone a tropospheric ozone product will be made available for Sentinel-5P.\n",
    "\n",
    "Another point to keep in mind is that Sentinel-5P maps the whole world on a daily basis. However, the concentration levels of different pollutants vary significantly throughout the day due to varying weather conditions, solar activity and human activity. A constant monitoring would be useful for many applications but is currently not possible using only satellite data. However, NASA, ESA and the Korean Meteorological Administration are planning a constellation of three geostationary satellites which will observe air pollution for most of the northern hemisphere on an hourly basis (see https://www.nasa.gov/feature/langley/the-future-of-monitoring-air-quality-from-space and https://earth.esa.int/web/guest/missions/esa-future-missions/sentinel-4). \n"
   ]
  },
  {
   "cell_type": "markdown",
   "metadata": {},
   "source": [
    "## Resources and further reading\n",
    "Resources you may want to use for your analysis include:\n",
    "- the <a href=\"https://www.eea.europa.eu/themes/air/air-quality-index\">EU Environmental Agency’s Air quality index <a>\n",
    "- the <a href=\"https://www.eea.europa.eu/themes/air/intro\">European Environment Agency’s website<a>\n",
    "- the <a href=\"https://atmosphere.copernicus.eu/\">Copernicus Atmosphere Monitoring Service<a>\n",
    "- the <a href=\"https://itunes.apple.com/us/app/climate-from-space/id1061553589?mt=8\">Climate Change Initiative’s Climate from Space App for tablets specifically the section about aerosols<a>\n",
    "- the <a href=\"http://www.who.int/airpollution/en/\">WHO’s website dedicated to air pollution<a>\n",
    "- the online <a href=\"https://www.futurelearn.com/courses/atmospheric-composition\">MOOC Monitoring Atmospheric Composition<a>\n"
   ]
  }
 ],
 "metadata": {
  "hide_input": false,
  "kernelspec": {
   "display_name": "Python 3",
   "language": "python",
   "name": "python3"
  },
  "language_info": {
   "codemirror_mode": {
    "name": "ipython",
    "version": 3
   },
   "file_extension": ".py",
   "mimetype": "text/x-python",
   "name": "python",
   "nbconvert_exporter": "python",
   "pygments_lexer": "ipython3",
   "version": "3.6.7"
  },
  "toc": {
   "base_numbering": 1,
   "nav_menu": {},
   "number_sections": true,
   "sideBar": true,
   "skip_h1_title": true,
   "title_cell": "Table of Contents",
   "title_sidebar": "Contents",
   "toc_cell": false,
   "toc_position": {},
   "toc_section_display": true,
   "toc_window_display": false
  }
 },
 "nbformat": 4,
 "nbformat_minor": 2
}
